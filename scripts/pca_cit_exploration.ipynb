{
 "cells": [
  {
   "cell_type": "markdown",
   "metadata": {},
   "source": [
    "# Testing PCA for Causal Inference\n",
    "I need to get a baseline for what causal inference I can do using genotype PCs. So to start I'll just run a small simulation under three scenarios\n",
    "\n",
    "1. Null case (no association between variables)\n",
    "1. Full causal mediation\n",
    "1. Independent association of genotype PC with mediator and response\n",
    "\n",
    "First I'll just import some of the code I've written to generate datasets and run inference, then I'll construct the PCs and run a causal inference test on varying numbers of PCs for each set."
   ]
  },
  {
   "cell_type": "code",
   "execution_count": 1,
   "metadata": {},
   "outputs": [],
   "source": [
    "import cit\n",
    "import data_model as dm\n",
    "import numpy as np\n",
    "import scipy as sp\n",
    "import multiprocessing as mp\n",
    "import pandas as pd"
   ]
  },
  {
   "cell_type": "code",
   "execution_count": 2,
   "metadata": {},
   "outputs": [],
   "source": [
    "def to_df(result):\n",
    "    '''Merge result dictionary to a pd.DataFrame'''\n",
    "    raise NotImplemented"
   ]
  },
  {
   "cell_type": "markdown",
   "metadata": {},
   "source": [
    "## Null Case"
   ]
  },
  {
   "cell_type": "code",
   "execution_count": 3,
   "metadata": {},
   "outputs": [],
   "source": [
    "NUM_SAMPLES = 1000\n",
    "null_data = [dm.generate_null(n=500) for i in range(NUM_SAMPLES)]\n",
    "SVDs = [np.linalg.svd(genotype, full_matrices=False, compute_uv=True) for (_,_,genotype) in null_data]\n",
    "PCs = [U@np.diag(D) for (U,D,Vh) in SVDs]"
   ]
  },
  {
   "cell_type": "code",
   "execution_count": 45,
   "metadata": {},
   "outputs": [
    {
     "name": "stderr",
     "output_type": "stream",
     "text": [
      "/project/6003095/wcasazza/vaecit/scripts/cit.py:23: RuntimeWarning: invalid value encountered in double_scalars\n",
      "  fstat = ((RSS1 - RSS2) / (p2-p1)) / (RSS2 / (n - p2))\n",
      "/project/6003095/wcasazza/vaecit/scripts/cit.py:23: RuntimeWarning: invalid value encountered in double_scalars\n",
      "  fstat = ((RSS1 - RSS2) / (p2-p1)) / (RSS2 / (n - p2))\n",
      "/project/6003095/wcasazza/vaecit/scripts/cit.py:23: RuntimeWarning: invalid value encountered in double_scalars\n",
      "  fstat = ((RSS1 - RSS2) / (p2-p1)) / (RSS2 / (n - p2))\n",
      "/project/6003095/wcasazza/vaecit/scripts/cit.py:23: RuntimeWarning: invalid value encountered in double_scalars\n",
      "  fstat = ((RSS1 - RSS2) / (p2-p1)) / (RSS2 / (n - p2))\n",
      "/project/6003095/wcasazza/vaecit/scripts/cit.py:23: RuntimeWarning: invalid value encountered in double_scalars\n",
      "  fstat = ((RSS1 - RSS2) / (p2-p1)) / (RSS2 / (n - p2))\n",
      "/project/6003095/wcasazza/vaecit/scripts/cit.py:23: RuntimeWarning: invalid value encountered in double_scalars\n",
      "  fstat = ((RSS1 - RSS2) / (p2-p1)) / (RSS2 / (n - p2))\n",
      "/project/6003095/wcasazza/vaecit/scripts/cit.py:23: RuntimeWarning: invalid value encountered in double_scalars\n",
      "  fstat = ((RSS1 - RSS2) / (p2-p1)) / (RSS2 / (n - p2))\n",
      "/project/6003095/wcasazza/vaecit/scripts/cit.py:23: RuntimeWarning: invalid value encountered in double_scalars\n",
      "  fstat = ((RSS1 - RSS2) / (p2-p1)) / (RSS2 / (n - p2))\n",
      "/project/6003095/wcasazza/vaecit/scripts/cit.py:23: RuntimeWarning: invalid value encountered in double_scalars\n",
      "  fstat = ((RSS1 - RSS2) / (p2-p1)) / (RSS2 / (n - p2))\n",
      "/project/6003095/wcasazza/vaecit/scripts/cit.py:23: RuntimeWarning: invalid value encountered in double_scalars\n",
      "  fstat = ((RSS1 - RSS2) / (p2-p1)) / (RSS2 / (n - p2))\n",
      "/project/6003095/wcasazza/vaecit/scripts/cit.py:23: RuntimeWarning: invalid value encountered in double_scalars\n",
      "  fstat = ((RSS1 - RSS2) / (p2-p1)) / (RSS2 / (n - p2))\n",
      "/project/6003095/wcasazza/vaecit/scripts/cit.py:23: RuntimeWarning: invalid value encountered in double_scalars\n",
      "  fstat = ((RSS1 - RSS2) / (p2-p1)) / (RSS2 / (n - p2))\n",
      "/project/6003095/wcasazza/vaecit/scripts/cit.py:23: RuntimeWarning: invalid value encountered in double_scalars\n",
      "  fstat = ((RSS1 - RSS2) / (p2-p1)) / (RSS2 / (n - p2))\n",
      "/project/6003095/wcasazza/vaecit/scripts/cit.py:23: RuntimeWarning: invalid value encountered in double_scalars\n",
      "  fstat = ((RSS1 - RSS2) / (p2-p1)) / (RSS2 / (n - p2))\n",
      "/project/6003095/wcasazza/vaecit/scripts/cit.py:23: RuntimeWarning: invalid value encountered in double_scalars\n",
      "  fstat = ((RSS1 - RSS2) / (p2-p1)) / (RSS2 / (n - p2))\n",
      "/project/6003095/wcasazza/vaecit/scripts/cit.py:23: RuntimeWarning: invalid value encountered in double_scalars\n",
      "  fstat = ((RSS1 - RSS2) / (p2-p1)) / (RSS2 / (n - p2))\n",
      "/project/6003095/wcasazza/vaecit/scripts/cit.py:23: RuntimeWarning: invalid value encountered in double_scalars\n",
      "  fstat = ((RSS1 - RSS2) / (p2-p1)) / (RSS2 / (n - p2))\n",
      "/project/6003095/wcasazza/vaecit/scripts/cit.py:23: RuntimeWarning: invalid value encountered in double_scalars\n",
      "  fstat = ((RSS1 - RSS2) / (p2-p1)) / (RSS2 / (n - p2))\n",
      "/project/6003095/wcasazza/vaecit/scripts/cit.py:23: RuntimeWarning: invalid value encountered in double_scalars\n",
      "  fstat = ((RSS1 - RSS2) / (p2-p1)) / (RSS2 / (n - p2))\n",
      "/project/6003095/wcasazza/vaecit/scripts/cit.py:23: RuntimeWarning: invalid value encountered in double_scalars\n",
      "  fstat = ((RSS1 - RSS2) / (p2-p1)) / (RSS2 / (n - p2))\n",
      "/project/6003095/wcasazza/vaecit/scripts/cit.py:23: RuntimeWarning: invalid value encountered in double_scalars\n",
      "  fstat = ((RSS1 - RSS2) / (p2-p1)) / (RSS2 / (n - p2))\n",
      "/project/6003095/wcasazza/vaecit/scripts/cit.py:23: RuntimeWarning: invalid value encountered in double_scalars\n",
      "  fstat = ((RSS1 - RSS2) / (p2-p1)) / (RSS2 / (n - p2))\n",
      "/project/6003095/wcasazza/vaecit/scripts/cit.py:23: RuntimeWarning: invalid value encountered in double_scalars\n",
      "  fstat = ((RSS1 - RSS2) / (p2-p1)) / (RSS2 / (n - p2))\n",
      "/project/6003095/wcasazza/vaecit/scripts/cit.py:23: RuntimeWarning: invalid value encountered in double_scalars\n",
      "  fstat = ((RSS1 - RSS2) / (p2-p1)) / (RSS2 / (n - p2))\n",
      "/project/6003095/wcasazza/vaecit/scripts/cit.py:23: RuntimeWarning: invalid value encountered in double_scalars\n",
      "  fstat = ((RSS1 - RSS2) / (p2-p1)) / (RSS2 / (n - p2))\n",
      "/project/6003095/wcasazza/vaecit/scripts/cit.py:23: RuntimeWarning: invalid value encountered in double_scalars\n",
      "  fstat = ((RSS1 - RSS2) / (p2-p1)) / (RSS2 / (n - p2))\n",
      "/project/6003095/wcasazza/vaecit/scripts/cit.py:23: RuntimeWarning: invalid value encountered in double_scalars\n",
      "  fstat = ((RSS1 - RSS2) / (p2-p1)) / (RSS2 / (n - p2))\n",
      "/project/6003095/wcasazza/vaecit/scripts/cit.py:23: RuntimeWarning: invalid value encountered in double_scalars\n",
      "  fstat = ((RSS1 - RSS2) / (p2-p1)) / (RSS2 / (n - p2))\n",
      "/project/6003095/wcasazza/vaecit/scripts/cit.py:23: RuntimeWarning: invalid value encountered in double_scalars\n",
      "  fstat = ((RSS1 - RSS2) / (p2-p1)) / (RSS2 / (n - p2))\n",
      "/project/6003095/wcasazza/vaecit/scripts/cit.py:23: RuntimeWarning: invalid value encountered in double_scalars\n",
      "  fstat = ((RSS1 - RSS2) / (p2-p1)) / (RSS2 / (n - p2))\n",
      "/project/6003095/wcasazza/vaecit/scripts/cit.py:23: RuntimeWarning: invalid value encountered in double_scalars\n",
      "  fstat = ((RSS1 - RSS2) / (p2-p1)) / (RSS2 / (n - p2))\n",
      "/project/6003095/wcasazza/vaecit/scripts/cit.py:23: RuntimeWarning: invalid value encountered in double_scalars\n",
      "  fstat = ((RSS1 - RSS2) / (p2-p1)) / (RSS2 / (n - p2))\n",
      "Process ForkPoolWorker-191:\n",
      "Process ForkPoolWorker-193:\n",
      "Process ForkPoolWorker-183:\n",
      "Process ForkPoolWorker-199:\n",
      "Process ForkPoolWorker-175:\n",
      "Process ForkPoolWorker-196:\n"
     ]
    },
    {
     "ename": "KeyboardInterrupt",
     "evalue": "",
     "output_type": "error",
     "traceback": [
      "\u001b[0;31m---------------------------------------------------------------------------\u001b[0m",
      "\u001b[0;31mKeyboardInterrupt\u001b[0m                         Traceback (most recent call last)",
      "\u001b[0;32m<ipython-input-45-9665585122a7>\u001b[0m in \u001b[0;36m<module>\u001b[0;34m\u001b[0m\n\u001b[1;32m      6\u001b[0m     \u001b[0margs\u001b[0m \u001b[0;34m=\u001b[0m \u001b[0;34m[\u001b[0m\u001b[0;34m(\u001b[0m\u001b[0mtrait\u001b[0m\u001b[0;34m,\u001b[0m\u001b[0mgene_exp\u001b[0m\u001b[0;34m,\u001b[0m \u001b[0mZ\u001b[0m\u001b[0;34m[\u001b[0m\u001b[0;34m:\u001b[0m\u001b[0;34m,\u001b[0m \u001b[0;36m0\u001b[0m\u001b[0;34m:\u001b[0m\u001b[0mi\u001b[0m\u001b[0;34m]\u001b[0m\u001b[0;34m,\u001b[0m \u001b[0;36m1000\u001b[0m\u001b[0;34m)\u001b[0m \u001b[0;32mfor\u001b[0m \u001b[0;34m(\u001b[0m\u001b[0;34m(\u001b[0m\u001b[0mtrait\u001b[0m\u001b[0;34m,\u001b[0m \u001b[0mgene_exp\u001b[0m\u001b[0;34m,\u001b[0m \u001b[0m_\u001b[0m\u001b[0;34m)\u001b[0m\u001b[0;34m,\u001b[0m \u001b[0mZ\u001b[0m\u001b[0;34m)\u001b[0m \u001b[0;32min\u001b[0m \u001b[0mzip\u001b[0m\u001b[0;34m(\u001b[0m\u001b[0mnull_data\u001b[0m\u001b[0;34m,\u001b[0m \u001b[0mPCs\u001b[0m\u001b[0;34m)\u001b[0m\u001b[0;34m]\u001b[0m\u001b[0;34m\u001b[0m\u001b[0m\n\u001b[1;32m      7\u001b[0m     \u001b[0;32mwith\u001b[0m \u001b[0mmp\u001b[0m\u001b[0;34m.\u001b[0m\u001b[0mPool\u001b[0m\u001b[0;34m(\u001b[0m\u001b[0mprocesses\u001b[0m\u001b[0;34m=\u001b[0m\u001b[0mmp\u001b[0m\u001b[0;34m.\u001b[0m\u001b[0mcpu_count\u001b[0m\u001b[0;34m(\u001b[0m\u001b[0;34m)\u001b[0m\u001b[0;34m)\u001b[0m \u001b[0;32mas\u001b[0m \u001b[0mpool\u001b[0m\u001b[0;34m:\u001b[0m\u001b[0;34m\u001b[0m\u001b[0m\n\u001b[0;32m----> 8\u001b[0;31m         \u001b[0mnull_result\u001b[0m \u001b[0;34m=\u001b[0m \u001b[0mpool\u001b[0m\u001b[0;34m.\u001b[0m\u001b[0mstarmap\u001b[0m\u001b[0;34m(\u001b[0m\u001b[0mcit\u001b[0m\u001b[0;34m.\u001b[0m\u001b[0mcit\u001b[0m\u001b[0;34m,\u001b[0m \u001b[0margs\u001b[0m\u001b[0;34m)\u001b[0m\u001b[0;34m\u001b[0m\u001b[0m\n\u001b[0m\u001b[1;32m      9\u001b[0m     \u001b[0mnull_results\u001b[0m\u001b[0;34m.\u001b[0m\u001b[0mappend\u001b[0m\u001b[0;34m(\u001b[0m\u001b[0mnull_result\u001b[0m\u001b[0;34m)\u001b[0m\u001b[0;34m\u001b[0m\u001b[0m\n",
      "\u001b[0;32m/cvmfs/soft.computecanada.ca/easybuild/software/2017/Core/python/3.6.3/lib/python3.6/multiprocessing/pool.py\u001b[0m in \u001b[0;36mstarmap\u001b[0;34m(self, func, iterable, chunksize)\u001b[0m\n\u001b[1;32m    272\u001b[0m         \u001b[0;31m`\u001b[0m\u001b[0mfunc\u001b[0m\u001b[0;31m`\u001b[0m \u001b[0;32mand\u001b[0m \u001b[0;34m(\u001b[0m\u001b[0ma\u001b[0m\u001b[0;34m,\u001b[0m \u001b[0mb\u001b[0m\u001b[0;34m)\u001b[0m \u001b[0mbecomes\u001b[0m \u001b[0mfunc\u001b[0m\u001b[0;34m(\u001b[0m\u001b[0ma\u001b[0m\u001b[0;34m,\u001b[0m \u001b[0mb\u001b[0m\u001b[0;34m)\u001b[0m\u001b[0;34m.\u001b[0m\u001b[0;34m\u001b[0m\u001b[0m\n\u001b[1;32m    273\u001b[0m         '''\n\u001b[0;32m--> 274\u001b[0;31m         \u001b[0;32mreturn\u001b[0m \u001b[0mself\u001b[0m\u001b[0;34m.\u001b[0m\u001b[0m_map_async\u001b[0m\u001b[0;34m(\u001b[0m\u001b[0mfunc\u001b[0m\u001b[0;34m,\u001b[0m \u001b[0miterable\u001b[0m\u001b[0;34m,\u001b[0m \u001b[0mstarmapstar\u001b[0m\u001b[0;34m,\u001b[0m \u001b[0mchunksize\u001b[0m\u001b[0;34m)\u001b[0m\u001b[0;34m.\u001b[0m\u001b[0mget\u001b[0m\u001b[0;34m(\u001b[0m\u001b[0;34m)\u001b[0m\u001b[0;34m\u001b[0m\u001b[0m\n\u001b[0m\u001b[1;32m    275\u001b[0m \u001b[0;34m\u001b[0m\u001b[0m\n\u001b[1;32m    276\u001b[0m     def starmap_async(self, func, iterable, chunksize=None, callback=None,\n",
      "\u001b[0;32m/cvmfs/soft.computecanada.ca/easybuild/software/2017/Core/python/3.6.3/lib/python3.6/multiprocessing/pool.py\u001b[0m in \u001b[0;36mget\u001b[0;34m(self, timeout)\u001b[0m\n\u001b[1;32m    636\u001b[0m \u001b[0;34m\u001b[0m\u001b[0m\n\u001b[1;32m    637\u001b[0m     \u001b[0;32mdef\u001b[0m \u001b[0mget\u001b[0m\u001b[0;34m(\u001b[0m\u001b[0mself\u001b[0m\u001b[0;34m,\u001b[0m \u001b[0mtimeout\u001b[0m\u001b[0;34m=\u001b[0m\u001b[0;32mNone\u001b[0m\u001b[0;34m)\u001b[0m\u001b[0;34m:\u001b[0m\u001b[0;34m\u001b[0m\u001b[0m\n\u001b[0;32m--> 638\u001b[0;31m         \u001b[0mself\u001b[0m\u001b[0;34m.\u001b[0m\u001b[0mwait\u001b[0m\u001b[0;34m(\u001b[0m\u001b[0mtimeout\u001b[0m\u001b[0;34m)\u001b[0m\u001b[0;34m\u001b[0m\u001b[0m\n\u001b[0m\u001b[1;32m    639\u001b[0m         \u001b[0;32mif\u001b[0m \u001b[0;32mnot\u001b[0m \u001b[0mself\u001b[0m\u001b[0;34m.\u001b[0m\u001b[0mready\u001b[0m\u001b[0;34m(\u001b[0m\u001b[0;34m)\u001b[0m\u001b[0;34m:\u001b[0m\u001b[0;34m\u001b[0m\u001b[0m\n\u001b[1;32m    640\u001b[0m             \u001b[0;32mraise\u001b[0m \u001b[0mTimeoutError\u001b[0m\u001b[0;34m\u001b[0m\u001b[0m\n",
      "\u001b[0;32m/cvmfs/soft.computecanada.ca/easybuild/software/2017/Core/python/3.6.3/lib/python3.6/multiprocessing/pool.py\u001b[0m in \u001b[0;36mwait\u001b[0;34m(self, timeout)\u001b[0m\n\u001b[1;32m    633\u001b[0m \u001b[0;34m\u001b[0m\u001b[0m\n\u001b[1;32m    634\u001b[0m     \u001b[0;32mdef\u001b[0m \u001b[0mwait\u001b[0m\u001b[0;34m(\u001b[0m\u001b[0mself\u001b[0m\u001b[0;34m,\u001b[0m \u001b[0mtimeout\u001b[0m\u001b[0;34m=\u001b[0m\u001b[0;32mNone\u001b[0m\u001b[0;34m)\u001b[0m\u001b[0;34m:\u001b[0m\u001b[0;34m\u001b[0m\u001b[0m\n\u001b[0;32m--> 635\u001b[0;31m         \u001b[0mself\u001b[0m\u001b[0;34m.\u001b[0m\u001b[0m_event\u001b[0m\u001b[0;34m.\u001b[0m\u001b[0mwait\u001b[0m\u001b[0;34m(\u001b[0m\u001b[0mtimeout\u001b[0m\u001b[0;34m)\u001b[0m\u001b[0;34m\u001b[0m\u001b[0m\n\u001b[0m\u001b[1;32m    636\u001b[0m \u001b[0;34m\u001b[0m\u001b[0m\n\u001b[1;32m    637\u001b[0m     \u001b[0;32mdef\u001b[0m \u001b[0mget\u001b[0m\u001b[0;34m(\u001b[0m\u001b[0mself\u001b[0m\u001b[0;34m,\u001b[0m \u001b[0mtimeout\u001b[0m\u001b[0;34m=\u001b[0m\u001b[0;32mNone\u001b[0m\u001b[0;34m)\u001b[0m\u001b[0;34m:\u001b[0m\u001b[0;34m\u001b[0m\u001b[0m\n",
      "\u001b[0;32m/cvmfs/soft.computecanada.ca/easybuild/software/2017/Core/python/3.6.3/lib/python3.6/threading.py\u001b[0m in \u001b[0;36mwait\u001b[0;34m(self, timeout)\u001b[0m\n\u001b[1;32m    549\u001b[0m             \u001b[0msignaled\u001b[0m \u001b[0;34m=\u001b[0m \u001b[0mself\u001b[0m\u001b[0;34m.\u001b[0m\u001b[0m_flag\u001b[0m\u001b[0;34m\u001b[0m\u001b[0m\n\u001b[1;32m    550\u001b[0m             \u001b[0;32mif\u001b[0m \u001b[0;32mnot\u001b[0m \u001b[0msignaled\u001b[0m\u001b[0;34m:\u001b[0m\u001b[0;34m\u001b[0m\u001b[0m\n\u001b[0;32m--> 551\u001b[0;31m                 \u001b[0msignaled\u001b[0m \u001b[0;34m=\u001b[0m \u001b[0mself\u001b[0m\u001b[0;34m.\u001b[0m\u001b[0m_cond\u001b[0m\u001b[0;34m.\u001b[0m\u001b[0mwait\u001b[0m\u001b[0;34m(\u001b[0m\u001b[0mtimeout\u001b[0m\u001b[0;34m)\u001b[0m\u001b[0;34m\u001b[0m\u001b[0m\n\u001b[0m\u001b[1;32m    552\u001b[0m             \u001b[0;32mreturn\u001b[0m \u001b[0msignaled\u001b[0m\u001b[0;34m\u001b[0m\u001b[0m\n\u001b[1;32m    553\u001b[0m \u001b[0;34m\u001b[0m\u001b[0m\n",
      "\u001b[0;32m/cvmfs/soft.computecanada.ca/easybuild/software/2017/Core/python/3.6.3/lib/python3.6/threading.py\u001b[0m in \u001b[0;36mwait\u001b[0;34m(self, timeout)\u001b[0m\n\u001b[1;32m    293\u001b[0m         \u001b[0;32mtry\u001b[0m\u001b[0;34m:\u001b[0m    \u001b[0;31m# restore state no matter what (e.g., KeyboardInterrupt)\u001b[0m\u001b[0;34m\u001b[0m\u001b[0m\n\u001b[1;32m    294\u001b[0m             \u001b[0;32mif\u001b[0m \u001b[0mtimeout\u001b[0m \u001b[0;32mis\u001b[0m \u001b[0;32mNone\u001b[0m\u001b[0;34m:\u001b[0m\u001b[0;34m\u001b[0m\u001b[0m\n\u001b[0;32m--> 295\u001b[0;31m                 \u001b[0mwaiter\u001b[0m\u001b[0;34m.\u001b[0m\u001b[0macquire\u001b[0m\u001b[0;34m(\u001b[0m\u001b[0;34m)\u001b[0m\u001b[0;34m\u001b[0m\u001b[0m\n\u001b[0m\u001b[1;32m    296\u001b[0m                 \u001b[0mgotit\u001b[0m \u001b[0;34m=\u001b[0m \u001b[0;32mTrue\u001b[0m\u001b[0;34m\u001b[0m\u001b[0m\n\u001b[1;32m    297\u001b[0m             \u001b[0;32melse\u001b[0m\u001b[0;34m:\u001b[0m\u001b[0;34m\u001b[0m\u001b[0m\n",
      "\u001b[0;31mKeyboardInterrupt\u001b[0m: "
     ]
    }
   ],
   "source": [
    "import importlib as imp\n",
    "imp.reload(cit)\n",
    "null_results = []\n",
    "for i in range(5):\n",
    "    args = [(trait,gene_exp, Z[:, 0:i], 1000) for ((trait, gene_exp, _), Z) in zip(null_data, PCs)]\n",
    "    with mp.Pool(processes=mp.cpu_count()) as pool:\n",
    "        null_result = pool.starmap(cit.cit, args)\n",
    "    null_results.append(null_result)"
   ]
  },
  {
   "cell_type": "code",
   "execution_count": 66,
   "metadata": {},
   "outputs": [],
   "source": [
    "imp.reload(cit)\n",
    "tmp_data = zip(null_data, PCs)\n",
    "((trait, gene_exp, _), Z) = next(tmp_data)\n",
    "example_res = cit.cit(trait, gene_exp, Z[:,0:3], num_bootstrap=1)"
   ]
  },
  {
   "cell_type": "code",
   "execution_count": 78,
   "metadata": {},
   "outputs": [
    {
     "data": {
      "text/html": [
       "<div>\n",
       "<style scoped>\n",
       "    .dataframe tbody tr th:only-of-type {\n",
       "        vertical-align: middle;\n",
       "    }\n",
       "\n",
       "    .dataframe tbody tr th {\n",
       "        vertical-align: top;\n",
       "    }\n",
       "\n",
       "    .dataframe thead th {\n",
       "        text-align: right;\n",
       "    }\n",
       "</style>\n",
       "<table border=\"1\" class=\"dataframe\">\n",
       "  <thead>\n",
       "    <tr style=\"text-align: right;\">\n",
       "      <th></th>\n",
       "      <th>beta</th>\n",
       "      <th>rss</th>\n",
       "      <th>se</th>\n",
       "      <th>t</th>\n",
       "      <th>p</th>\n",
       "      <th>r2</th>\n",
       "    </tr>\n",
       "  </thead>\n",
       "  <tbody>\n",
       "    <tr>\n",
       "      <th>0</th>\n",
       "      <td>0.376424</td>\n",
       "      <td>534.441204</td>\n",
       "      <td>11.353649</td>\n",
       "      <td>0.033154</td>\n",
       "      <td>0.486782</td>\n",
       "      <td>0.005901</td>\n",
       "    </tr>\n",
       "    <tr>\n",
       "      <th>1</th>\n",
       "      <td>0.029462</td>\n",
       "      <td>534.441204</td>\n",
       "      <td>1.069176</td>\n",
       "      <td>0.027556</td>\n",
       "      <td>0.489014</td>\n",
       "      <td>0.005901</td>\n",
       "    </tr>\n",
       "    <tr>\n",
       "      <th>2</th>\n",
       "      <td>0.040221</td>\n",
       "      <td>534.441204</td>\n",
       "      <td>1.601272</td>\n",
       "      <td>0.025118</td>\n",
       "      <td>0.489985</td>\n",
       "      <td>0.005901</td>\n",
       "    </tr>\n",
       "    <tr>\n",
       "      <th>3</th>\n",
       "      <td>-0.020139</td>\n",
       "      <td>534.441204</td>\n",
       "      <td>1.058654</td>\n",
       "      <td>-0.019023</td>\n",
       "      <td>0.507585</td>\n",
       "      <td>0.005901</td>\n",
       "    </tr>\n",
       "    <tr>\n",
       "      <th>4</th>\n",
       "      <td>0.068063</td>\n",
       "      <td>534.441204</td>\n",
       "      <td>1.071863</td>\n",
       "      <td>0.063500</td>\n",
       "      <td>0.474697</td>\n",
       "      <td>0.005901</td>\n",
       "    </tr>\n",
       "  </tbody>\n",
       "</table>\n",
       "</div>"
      ],
      "text/plain": [
       "       beta         rss         se         t         p        r2\n",
       "0  0.376424  534.441204  11.353649  0.033154  0.486782  0.005901\n",
       "1  0.029462  534.441204   1.069176  0.027556  0.489014  0.005901\n",
       "2  0.040221  534.441204   1.601272  0.025118  0.489985  0.005901\n",
       "3 -0.020139  534.441204   1.058654 -0.019023  0.507585  0.005901\n",
       "4  0.068063  534.441204   1.071863  0.063500  0.474697  0.005901"
      ]
     },
     "execution_count": 78,
     "metadata": {},
     "output_type": "execute_result"
    }
   ],
   "source": [
    "pd.DataFrame(example_res['test4'])"
   ]
  },
  {
   "cell_type": "code",
   "execution_count": null,
   "metadata": {},
   "outputs": [],
   "source": []
  }
 ],
 "metadata": {
  "kernelspec": {
   "display_name": "Python 3",
   "language": "python",
   "name": "python3"
  },
  "language_info": {
   "codemirror_mode": {
    "name": "ipython",
    "version": 3
   },
   "file_extension": ".py",
   "mimetype": "text/x-python",
   "name": "python",
   "nbconvert_exporter": "python",
   "pygments_lexer": "ipython3",
   "version": "3.6.3"
  }
 },
 "nbformat": 4,
 "nbformat_minor": 2
}
