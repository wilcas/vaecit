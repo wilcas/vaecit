{
 "cells": [
  {
   "cell_type": "markdown",
   "metadata": {},
   "source": [
    "# Testing PCA for Causal Inference\n",
    "I need to get a baseline for what causal inference I can do using genotype PCs. So to start I'll just run a small simulation under three scenarios\n",
    "\n",
    "1. Null case (no association between variables)\n",
    "1. Full causal mediation\n",
    "1. Independent association of genotype PC with mediator and response\n",
    "\n",
    "First I'll just import some of the code I've written to generate datasets and run inference, then I'll construct the PCs and run a causal inference test on varying numbers of PCs for each set."
   ]
  },
  {
   "cell_type": "code",
   "execution_count": 1,
   "metadata": {},
   "outputs": [],
   "source": [
    "import cit\n",
    "import data_model as dm\n",
    "import numpy as np\n",
    "import scipy as sp\n",
    "import multiprocessing as mp\n",
    "import pandas as pd"
   ]
  },
  {
   "cell_type": "code",
   "execution_count": 2,
   "metadata": {},
   "outputs": [],
   "source": [
    "import warnings\n",
    "warnings.filterwarnings(action='once')\n",
    "def to_df(result):\n",
    "    '''Merge result dictionary to a pd.DataFrame'''\n",
    "    raise NotImplemented"
   ]
  },
  {
   "cell_type": "markdown",
   "metadata": {},
   "source": [
    "## Null Case"
   ]
  },
  {
   "cell_type": "code",
   "execution_count": 3,
   "metadata": {},
   "outputs": [],
   "source": [
    "NUM_SAMPLES = 1000\n",
    "null_data = [dm.generate_null(n=500) for i in range(NUM_SAMPLES)]\n",
    "SVDs = [np.linalg.svd(genotype, full_matrices=False, compute_uv=True) for (_,_,genotype) in null_data]\n",
    "PCs = [U@np.diag(D) for (U,D,Vh) in SVDs]"
   ]
  },
  {
   "cell_type": "code",
   "execution_count": null,
   "metadata": {},
   "outputs": [],
   "source": [
    "import importlib as imp\n",
    "imp.reload(cit)\n",
    "null_results = []\n",
    "for i in range(1,6):\n",
    "    args = [(trait,gene_exp, Z[:, 0:i], 1000) for ((trait, gene_exp, _), Z) in zip(null_data, PCs)]\n",
    "    with mp.Pool(processes=8) as pool:\n",
    "        null_result = pool.starmap(cit.cit, args)\n",
    "    null_results.append(null_result)"
   ]
  },
  {
   "cell_type": "code",
   "execution_count": null,
   "metadata": {},
   "outputs": [],
   "source": [
    "import pickle\n",
    "with open('3_5_2019_PCA_null.dat','wb') as f:\n",
    "    pickle.dump(PCs, f)\n",
    "    pickle.dump(null_data, f)\n",
    "    pickle.dump(null_results,f)"
   ]
  },
  {
   "cell_type": "code",
   "execution_count": null,
   "metadata": {},
   "outputs": [],
   "source": []
  }
 ],
 "metadata": {
  "kernelspec": {
   "display_name": "Python 3",
   "language": "python",
   "name": "python3"
  },
  "language_info": {
   "codemirror_mode": {
    "name": "ipython",
    "version": 3
   },
   "file_extension": ".py",
   "mimetype": "text/x-python",
   "name": "python",
   "nbconvert_exporter": "python",
   "pygments_lexer": "ipython3",
   "version": "3.6.3"
  }
 },
 "nbformat": 4,
 "nbformat_minor": 2
}
