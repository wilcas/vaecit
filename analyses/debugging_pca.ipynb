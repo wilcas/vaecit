{
 "cells": [
  {
   "cell_type": "markdown",
   "metadata": {},
   "source": [
    "# Debugging PCA\n",
    "When including new linear decompositions of genotype, but perhaps with different restrictions on the space/nature of the reduced spaces therein, I have decided to use `scikit-learn` models so I am more confident that the results for each method are directly comparable. I also know that I can implement these methods more quickly and that I can be more sure that I'm executing them properly (they are documented high-level methods, rather than a bunch of low-level code that I wrote from basics in numpy).\n",
    "\n",
    "Here I'm just checking that the results of my PCA implementation match those in `scikit-learn`"
   ]
  },
  {
   "cell_type": "code",
   "execution_count": 9,
   "metadata": {},
   "outputs": [],
   "source": [
    "import os\n",
    "os.chdir(\"../scripts/\")"
   ]
  },
  {
   "cell_type": "code",
   "execution_count": 11,
   "metadata": {},
   "outputs": [],
   "source": [
    "import data_model as dm\n",
    "import numpy as np\n",
    "\n",
    "from scipy.stats import zscore\n",
    "from sklearn.decomposition import PCA"
   ]
  },
  {
   "cell_type": "code",
   "execution_count": 13,
   "metadata": {},
   "outputs": [],
   "source": [
    "_,_,genotype = dm.generate_caus1(500,400)\n",
    "\n",
    "pca = PCA(n_components = 1)\n",
    "skl_pcs = pca.fit_transform(genotype)\n",
    "\n",
    "my_pcs = dm.reduce_genotype(genotype,'pca',1,\"NA\")"
   ]
  },
  {
   "cell_type": "code",
   "execution_count": 16,
   "metadata": {},
   "outputs": [
    {
     "name": "stdout",
     "output_type": "stream",
     "text": [
      "[[-0.58094899]\n",
      " [ 0.64357105]\n",
      " [-1.02795413]\n",
      " [-1.96297645]\n",
      " [-0.85713605]]\n",
      "[[ 0.50161667]\n",
      " [-1.52472867]\n",
      " [ 1.92714507]\n",
      " [ 3.47148476]\n",
      " [ 1.50977254]]\n"
     ]
    }
   ],
   "source": [
    "print(skl_pcs[0:5])\n",
    "print(my_pcs[0:5])"
   ]
  },
  {
   "cell_type": "code",
   "execution_count": 18,
   "metadata": {},
   "outputs": [],
   "source": [
    "skl_pcs = pca.fit_transform(zscore(genotype))\n",
    "\n",
    "my_pcs = dm.reduce_genotype(genotype,'pca',1,\"NA\")"
   ]
  },
  {
   "cell_type": "code",
   "execution_count": 19,
   "metadata": {},
   "outputs": [
    {
     "name": "stdout",
     "output_type": "stream",
     "text": [
      "[[-0.50161667]\n",
      " [ 1.52472867]\n",
      " [-1.92714507]\n",
      " [-3.47148476]\n",
      " [-1.50977254]]\n",
      "[[ 0.50161667]\n",
      " [-1.52472867]\n",
      " [ 1.92714507]\n",
      " [ 3.47148476]\n",
      " [ 1.50977254]]\n"
     ]
    }
   ],
   "source": [
    "print(skl_pcs[0:5])\n",
    "print(my_pcs[0:5])"
   ]
  },
  {
   "cell_type": "markdown",
   "metadata": {},
   "source": [
    "Okay this looks fine, since PCA is equivalent to reflection, I'm fine that `scikit-learn`'s version returns a reflection of what I have here. No qualms"
   ]
  }
 ],
 "metadata": {
  "kernelspec": {
   "display_name": "Python 3",
   "language": "python",
   "name": "python3"
  },
  "language_info": {
   "codemirror_mode": {
    "name": "ipython",
    "version": 3
   },
   "file_extension": ".py",
   "mimetype": "text/x-python",
   "name": "python",
   "nbconvert_exporter": "python",
   "pygments_lexer": "ipython3",
   "version": "3.6.8"
  }
 },
 "nbformat": 4,
 "nbformat_minor": 2
}
