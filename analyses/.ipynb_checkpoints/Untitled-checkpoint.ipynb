{
 "cells": [
  {
   "cell_type": "markdown",
   "metadata": {},
   "source": [
    "# Test VAE on Genotypes\n",
    "The training of this test, I will generate causal scenarios up front, and then I will train vaes at a series of depths and size of latent variables, from there I will see the effect of these parameters on the ability to use latent codes in causal inference."
   ]
  },
  {
   "cell_type": "code",
   "execution_count": 3,
   "metadata": {},
   "outputs": [],
   "source": [
    "import cit \n",
    "import vae\n",
    "import data_model as dm\n",
    "import tensorflow as tf"
   ]
  },
  {
   "cell_type": "code",
   "execution_count": null,
   "metadata": {},
   "outputs": [],
   "source": [
    "# Define model parameters\n",
    "depths = [1,2,3] # number of hidden layers\n",
    "latent = [2,3,4,5] # number of latent variables\n",
    "# Define Data\n",
    "num_trials = 10\n",
    "num_genotypes = 200\n",
    "num_subjects = 500\n",
    "null_data = [dm.generate_null(n=num_subjects, p=num_genotypes) for i in range(num_trials)]\n",
    "caus1_data = [dm.generate_caus1(n=num_subjects, p=num_genotypes) for i in range(num_trials)]\n",
    "ind1_data = [dm.generate_ind1(n=num_subjects, p=num_genotypes) for i in range(num_trials)]"
   ]
  },
  {
   "cell_type": "markdown",
   "metadata": {},
   "source": [
    "## Null data Training\n",
    "Now we can start training some VAEs on our null datasets and evaluate the behavior on different parameters:"
   ]
  },
  {
   "cell_type": "code",
   "execution_count": null,
   "metadata": {},
   "outputs": [],
   "source": [
    "# Training VAEs\n",
    "for params in zip(num_genotypes,depths,latent):\n",
    "    "
   ]
  }
 ],
 "metadata": {
  "kernelspec": {
   "display_name": "Python 3",
   "language": "python",
   "name": "python3"
  },
  "language_info": {
   "codemirror_mode": {
    "name": "ipython",
    "version": 3
   },
   "file_extension": ".py",
   "mimetype": "text/x-python",
   "name": "python",
   "nbconvert_exporter": "python",
   "pygments_lexer": "ipython3",
   "version": "3.6.3"
  }
 },
 "nbformat": 4,
 "nbformat_minor": 2
}
