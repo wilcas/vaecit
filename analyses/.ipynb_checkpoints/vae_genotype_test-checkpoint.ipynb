{
 "cells": [
  {
   "cell_type": "markdown",
   "metadata": {},
   "source": [
    "# Test VAE on Genotypes\n",
    "The training of this test, I will generate causal scenarios up front, and then I will train vaes at a series of depths and size of latent variables, from there I will see the effect of these parameters on the ability to use latent codes in causal inference."
   ]
  },
  {
   "cell_type": "code",
   "execution_count": 1,
   "metadata": {},
   "outputs": [],
   "source": [
    "import cit \n",
    "import vae\n",
    "import data_model as dm\n",
    "import tensorflow as tf\n",
    "tf.enable_eager_execution()"
   ]
  },
  {
   "cell_type": "code",
   "execution_count": 2,
   "metadata": {},
   "outputs": [],
   "source": [
    "# Define model parameters\n",
    "depths = [1,2,3] # number of hidden layers\n",
    "latent = [1,2,3,4,5] # number of latent variables\n",
    "# Define Data\n",
    "num_trials = 10\n",
    "num_genotypes = 200\n",
    "num_subjects = 500\n",
    "null_data = [dm.generate_null(n=num_subjects, p=num_genotypes) for i in range(num_trials)]\n",
    "caus1_data = [dm.generate_caus1(n=num_subjects, p=num_genotypes) for i in range(num_trials)]\n",
    "ind1_data = [dm.generate_ind1(n=num_subjects, p=num_genotypes) for i in range(num_trials)]"
   ]
  },
  {
   "cell_type": "markdown",
   "metadata": {},
   "source": [
    "## Null data Training\n",
    "Now we can start training some VAEs on our null datasets and evaluate the behavior on different parameters:"
   ]
  },
  {
   "cell_type": "code",
   "execution_count": 60,
   "metadata": {},
   "outputs": [
    {
     "name": "stdout",
     "output_type": "stream",
     "text": [
      "CPU times: user 1min 41s, sys: 1.54 s, total: 1min 43s\n",
      "Wall time: 1min 1s\n"
     ]
    }
   ],
   "source": [
    "\n",
    "# Training VAEs\n",
    "from itertools import product\n",
    "models_null = [\n",
    "    [\n",
    "        vae.VAE(*params)\n",
    "        for params in \n",
    "        product([num_genotypes],latent,depths)\n",
    "    ] for i in range(num_trials)\n",
    "]\n",
    "models_null[2].compile(loss = models_null[2].total_loss, optimizer=tf.train.AdamOptimizer(1e-4))\n",
    "%time test = models_null[2].fit(null_data[0][2] / 2.,null_data[0][2] / 2., epochs=100, batch_size=10, verbose=0)"
   ]
  },
  {
   "cell_type": "code",
   "execution_count": 61,
   "metadata": {},
   "outputs": [
    {
     "data": {
      "image/png": "[encoded data removed]",
      "text/plain": [
       "<Figure size 432x288 with 1 Axes>"
      ]
     },
     "metadata": {
      "needs_background": "light"
     },
     "output_type": "display_data"
    }
   ],
   "source": [
    "%matplotlib inline\n",
    "import matplotlib.pyplot as plt\n",
    "plt.plot(test.history['loss'])\n",
    "temp = np.random.binomial(2,0.25,size=(500,200))"
   ]
  },
  {
   "cell_type": "code",
   "execution_count": 76,
   "metadata": {},
   "outputs": [
    {
     "name": "stdout",
     "output_type": "stream",
     "text": [
      "[[1 1 0 ... 0 1 1]\n",
      " [0 0 1 ... 0 1 1]\n",
      " [1 1 0 ... 1 0 0]\n",
      " ...\n",
      " [0 1 0 ... 2 0 0]\n",
      " [1 1 0 ... 1 0 1]\n",
      " [0 1 0 ... 1 0 0]]\n"
     ]
    },
    {
     "data": {
      "text/plain": [
       "12"
      ]
     },
     "execution_count": 76,
     "metadata": {},
     "output_type": "execute_result"
    }
   ],
   "source": [
    "import numpy as np\n",
    "print(temp)\n",
    "models_null[0].reparameterize(*models_null[2].encode(null_data[0][2]))\n",
    "len(models_null)"
   ]
  },
  {
   "cell_type": "code",
   "execution_count": null,
   "metadata": {},
   "outputs": [],
   "source": []
  },
  {
   "cell_type": "code",
   "execution_count": null,
   "metadata": {},
   "outputs": [],
   "source": []
  }
 ],
 "metadata": {
  "kernelspec": {
   "display_name": "Python 3",
   "language": "python",
   "name": "python3"
  },
  "language_info": {
   "codemirror_mode": {
    "name": "ipython",
    "version": 3
   },
   "file_extension": ".py",
   "mimetype": "text/x-python",
   "name": "python",
   "nbconvert_exporter": "python",
   "pygments_lexer": "ipython3",
   "version": "3.6.8"
  }
 },
 "nbformat": 4,
 "nbformat_minor": 2
}
