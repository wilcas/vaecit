{
 "cells": [
  {
   "cell_type": "markdown",
   "metadata": {},
   "source": [
    "# Testing new training\n",
    "I've added a warm-up period and batch normalization after every layer except for output layers a la \n",
    ">Sønderby, Casper Kaae, et al. How to Train Deep Variational Autoencoders and Probabilistic Ladder Networks. no. Icml, 2016, http://arxiv.org/abs/1602.02282.\n",
    "\n",
    "Additionally I'm experimenting with the same architecture *without* using any sort of variational inference (i.e. just a \n",
    "regular autoencoder with $\\mathcal{NLL}$ loss. I'm using this space to test small examples since I have no GPU access for now.\n",
    "\n",
    "First we'll load up some of the relevant packages and switch to where I'm keeping the python source code for this project:"
   ]
  },
  {
   "cell_type": "code",
   "execution_count": 1,
   "metadata": {},
   "outputs": [],
   "source": [
    "import os\n",
    "os.chdir(\"../scripts\")\n",
    "import data_model as dm\n",
    "import vae_torch as vt"
   ]
  },
  {
   "cell_type": "code",
   "execution_count": 2,
   "metadata": {},
   "outputs": [],
   "source": [
    "import numpy as np\n",
    "import torch \n",
    "import pandas as pd\n",
    "torch.manual_seed(0)\n",
    "np.random.seed(0)\n",
    "trait,gene_exp,genotype = dm.generate_caus1(500,300)"
   ]
  },
  {
   "cell_type": "markdown",
   "metadata": {},
   "source": [
    "## Variational Stuff\n",
    "### Baseline: the training I've already been using"
   ]
  },
  {
   "cell_type": "code",
   "execution_count": null,
   "metadata": {},
   "outputs": [],
   "source": [
    "lv_baseline = dm.reduce_genotype(genotype, \"mmdvae\",1,'testing',vae_depth=5,model_dir=\"/home/wcasazza/project/def-saram/wcasazza/vaecit/analyses/tmp/\")"
   ]
  },
  {
   "attachments": {
    "image.png": {
     "image/png": "[encoded data removed]"
    }
   },
   "cell_type": "markdown",
   "metadata": {},
   "source": [
    "  ![image.png](attachment:image.png) <!--![testing_mmdvaeloss_5_depth.png](tmp/testing_mmdvaeloss_5_depth.png)-->"
   ]
  },
  {
   "cell_type": "code",
   "execution_count": null,
   "metadata": {},
   "outputs": [],
   "source": [
    "lv_batch = dm.reduce_genotype(genotype, \"mmdvae_batch\",1,'testing',vae_depth=5,model_dir=\"/home/wcasazza/project/def-saram/wcasazza/vaecit/analyses/tmp/\")"
   ]
  },
  {
   "cell_type": "markdown",
   "metadata": {},
   "source": [
    "![testing_mmdvae_batchloss_5_depth.png](tmp/testing_mmdvae_batchloss_5_depth.png)"
   ]
  },
  {
   "cell_type": "code",
   "execution_count": null,
   "metadata": {},
   "outputs": [],
   "source": [
    "lv_warmup = dm.reduce_genotype(genotype, \"mmdvae_warmup\",1,'testing',vae_depth=5,model_dir=\"/home/wcasazza/project/def-saram/wcasazza/vaecit/analyses/tmp/\")"
   ]
  },
  {
   "cell_type": "markdown",
   "metadata": {},
   "source": [
    "![testing_mmdvae_warmuploss_5_depth.png](tmp/testing_mmdvae_warmuploss_5_depth.png)"
   ]
  },
  {
   "cell_type": "code",
   "execution_count": null,
   "metadata": {},
   "outputs": [],
   "source": [
    "lv_batch_warmup = dm.reduce_genotype(genotype, \"mmdvae_batch_warmup\",1,'testing',vae_depth=5,model_dir=\"/home/wcasazza/project/def-saram/wcasazza/vaecit/analyses/tmp/\")"
   ]
  },
  {
   "cell_type": "markdown",
   "metadata": {},
   "source": [
    "![testing_mmdvae_batch_warmuploss_5_depth.png](tmp/testing_mmdvae_batch_warmuploss_5_depth.png)"
   ]
  },
  {
   "cell_type": "markdown",
   "metadata": {},
   "source": [
    "## No variational loss\n",
    "Just a plain autoencoder"
   ]
  },
  {
   "cell_type": "code",
   "execution_count": null,
   "metadata": {},
   "outputs": [],
   "source": [
    "lv_no_var = dm.reduce_genotype(genotype, \"ae\",1,'testing',vae_depth=5,model_dir=\"~/projects/def-saram/wcasazza/vaecit/analyses/tmp/\")"
   ]
  },
  {
   "cell_type": "markdown",
   "metadata": {},
   "source": [
    "![testing_aeloss_5_depth.png](tmp/testing_aeloss_5_depth.png)"
   ]
  },
  {
   "cell_type": "code",
   "execution_count": null,
   "metadata": {},
   "outputs": [],
   "source": [
    "lv_no_var_batch = dm.reduce_genotype(genotype, \"ae_batch\",1,'testing',vae_depth=5,model_dir=\"~/projects/def-saram/wcasazza/vaecit/analyses/tmp/\")"
   ]
  },
  {
   "cell_type": "markdown",
   "metadata": {},
   "source": [
    "![testing_ae_batchloss_5_depth.png](tmp/testing_ae_batchloss_5_depth.png)"
   ]
  }
 ],
 "metadata": {
  "kernelspec": {
   "display_name": "Python 3",
   "language": "python",
   "name": "python3"
  },
  "language_info": {
   "codemirror_mode": {
    "name": "ipython",
    "version": 3
   },
   "file_extension": ".py",
   "mimetype": "text/x-python",
   "name": "python",
   "nbconvert_exporter": "python",
   "pygments_lexer": "ipython3",
   "version": "3.6.3"
  }
 },
 "nbformat": 4,
 "nbformat_minor": 2
}
